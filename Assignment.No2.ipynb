{
  "nbformat": 4,
  "nbformat_minor": 0,
  "metadata": {
    "colab": {
      "provenance": [],
      "include_colab_link": true
    },
    "kernelspec": {
      "name": "python3",
      "display_name": "Python 3"
    },
    "language_info": {
      "name": "python"
    }
  },
  "cells": [
    {
      "cell_type": "markdown",
      "metadata": {
        "id": "view-in-github",
        "colab_type": "text"
      },
      "source": [
        "<a href=\"https://colab.research.google.com/github/hina1808/hinanazmphilcs-2022/blob/main/Assignment.No2.ipynb\" target=\"_parent\"><img src=\"https://colab.research.google.com/assets/colab-badge.svg\" alt=\"Open In Colab\"/></a>"
      ]
    },
    {
      "cell_type": "markdown",
      "source": [
        "**Assignment No.02**\n",
        "Student Name Hina Naz\n",
        "Mphil CS Fall-22"
      ],
      "metadata": {
        "id": "sr0eXOVHnsUR"
      }
    },
    {
      "cell_type": "markdown",
      "source": [
        "**Example 4.11**"
      ],
      "metadata": {
        "id": "DeBo1mj8c6Nl"
      }
    },
    {
      "cell_type": "code",
      "execution_count": null,
      "metadata": {
        "colab": {
          "base_uri": "https://localhost:8080/"
        },
        "id": "BN61l11_FjoK",
        "outputId": "d6fa69b0-1a17-45cb-eda0-fe50eae7b5ba"
      },
      "outputs": [
        {
          "output_type": "stream",
          "name": "stdout",
          "text": [
            "my favourite pizza is peproni\n",
            "my favourite pizza is margertis\n",
            "my favourite pizza is hawain\n",
            "my favourite pizza is peproni\n",
            "my favourite pizza is margertis\n",
            "my favourite pizza is hawain\n",
            "my favourite pizza is peproni\n",
            "my favourite pizza is margertis\n",
            "my favourite pizza is hawain\n",
            "['peproni', 'margeritis', 'hawain', 'zinger', 'maroni']\n"
          ]
        }
      ],
      "source": [
        "\n",
        "friend_pizzas=['peproni','margeritis','hawain']\n",
        "for pizza in friend_pizzas:\n",
        " print(\"my favourite pizza is \"+'peproni')\n",
        " print(\"my favourite pizza is \"+'margertis')\n",
        " print(\"my favourite pizza is \"+'hawain')\n",
        "friend_pizzas.append('zinger')\n",
        "friend_pizzas.append('maroni')\n",
        "print(friend_pizzas)"
      ]
    },
    {
      "cell_type": "markdown",
      "source": [
        "**Example** **4.13**"
      ],
      "metadata": {
        "id": "qu1tfXDvXP9B"
      }
    },
    {
      "cell_type": "code",
      "source": [
        "foods=('chicken', 'mutton', 'baryami', 'Beaf')\n",
        "for food in foods:\n",
        "  print(foods)\n",
        "foods1=('berger','whitehandi','chickenkarai')\n",
        "print(\"\\n revised menu:\")\n",
        "for food1 in foods1:\n",
        "   print(foods1)"
      ],
      "metadata": {
        "colab": {
          "base_uri": "https://localhost:8080/"
        },
        "id": "ht7kQdwTXaAn",
        "outputId": "188c4d58-7ecd-4538-8642-c8cd88ca6e83"
      },
      "execution_count": null,
      "outputs": [
        {
          "output_type": "stream",
          "name": "stdout",
          "text": [
            "('chicken', 'mutton', 'baryami', 'Beaf')\n",
            "('chicken', 'mutton', 'baryami', 'Beaf')\n",
            "('chicken', 'mutton', 'baryami', 'Beaf')\n",
            "('chicken', 'mutton', 'baryami', 'Beaf')\n",
            "\n",
            " revised menu:\n",
            "('berger', 'whitehandi', 'chickenkarai')\n",
            "('berger', 'whitehandi', 'chickenkarai')\n",
            "('berger', 'whitehandi', 'chickenkarai')\n"
          ]
        }
      ]
    },
    {
      "cell_type": "markdown",
      "source": [
        "**Example** **5.2**"
      ],
      "metadata": {
        "id": "Kc-SKtT1f628"
      }
    },
    {
      "cell_type": "code",
      "source": [
        "numbers=['5','10','15','20','45','90']\n",
        "for number in numbers:\n",
        "  if number=='15':\n",
        "    print(number)\n",
        "print(number!=15)"
      ],
      "metadata": {
        "colab": {
          "base_uri": "https://localhost:8080/"
        },
        "id": "ueTRKHDPgEN9",
        "outputId": "463bd177-d1bf-492f-9433-9bc39189df7e"
      },
      "execution_count": null,
      "outputs": [
        {
          "output_type": "stream",
          "name": "stdout",
          "text": [
            "15\n",
            "True\n"
          ]
        }
      ]
    },
    {
      "cell_type": "code",
      "source": [
        "students=['ayesha','arooj','nadeem','junaid','sajid']\n",
        "for student in students:\n",
        "  if student=='ayesha':\n",
        "      print(student.upper())\n",
        "      print(student.title())\n",
        "      print(student.lower())\n",
        "      print(students)"
      ],
      "metadata": {
        "colab": {
          "base_uri": "https://localhost:8080/"
        },
        "id": "EA0P1wv5h6co",
        "outputId": "188f6fd7-6be7-47fe-bc3e-40b87e1c34e5"
      },
      "execution_count": 12,
      "outputs": [
        {
          "output_type": "stream",
          "name": "stdout",
          "text": [
            "AYESHA\n",
            "Ayesha\n",
            "ayesha\n",
            "['ayesha', 'arooj', 'nadeem', 'junaid', 'sajid']\n"
          ]
        }
      ]
    },
    {
      "cell_type": "code",
      "source": [
        "hina_ages=['15','25','35','40']\n",
        "for age in hina_ages:\n",
        "      hina_age='35'\n",
        "if hina_age!='25':\n",
        "   print('age is 35')\n",
        "\n"
      ],
      "metadata": {
        "colab": {
          "base_uri": "https://localhost:8080/"
        },
        "id": "hAtFEwIZjKQ4",
        "outputId": "6077a86b-c035-4a4d-ee5c-2266dbd089f8"
      },
      "execution_count": 1,
      "outputs": [
        {
          "output_type": "stream",
          "name": "stdout",
          "text": [
            "age is 35\n"
          ]
        }
      ]
    },
    {
      "cell_type": "code",
      "source": [
        "banned_friuts=['apple','mangoes','guava']\n",
        "fruit='watermalon'\n",
        "if fruit!= 'apple':\n",
        "         print(fruit.title())\n",
        "         print(fruit.title() +\"not exist in list\")\n"
      ],
      "metadata": {
        "colab": {
          "base_uri": "https://localhost:8080/"
        },
        "id": "FzCWj-vKkfl4",
        "outputId": "a1afde2f-5f2f-406e-cc80-c34094cd1771"
      },
      "execution_count": null,
      "outputs": [
        {
          "output_type": "stream",
          "name": "stdout",
          "text": [
            "Watermalon\n",
            "Watermalonnot exist in list\n"
          ]
        }
      ]
    },
    {
      "cell_type": "markdown",
      "source": [
        "**Example 6.3**"
      ],
      "metadata": {
        "id": "s4RtAvHknG-E"
      }
    },
    {
      "cell_type": "code",
      "source": [
        "hina_glossary={'page1':'name of vegetables','page15':'name of fruits'}\n",
        "print(hina_glossary['page1'])\n",
        "print(hina_glossary['page15'])"
      ],
      "metadata": {
        "colab": {
          "base_uri": "https://localhost:8080/"
        },
        "id": "dUpUcQNYnMjk",
        "outputId": "3a0796b5-80bb-4848-dcee-67be80059ddf"
      },
      "execution_count": 2,
      "outputs": [
        {
          "output_type": "stream",
          "name": "stdout",
          "text": [
            "name of vegetables\n",
            "name of fruits\n"
          ]
        }
      ]
    },
    {
      "cell_type": "code",
      "source": [
        "hina_items={'fruit':'apple','vegetable':'carrot'}\n",
        "print(hina_items['fruit'])\n",
        "print(\"\\ncarrot\")"
      ],
      "metadata": {
        "colab": {
          "base_uri": "https://localhost:8080/"
        },
        "id": "QsNYERhyoLVW",
        "outputId": "14ad4fe7-ab46-46b0-faac-e3ac4a4d9c38"
      },
      "execution_count": 3,
      "outputs": [
        {
          "output_type": "stream",
          "name": "stdout",
          "text": [
            "apple\n",
            "\n",
            "carrot\n"
          ]
        }
      ]
    },
    {
      "cell_type": "markdown",
      "source": [
        "**Example 6.11**"
      ],
      "metadata": {
        "id": "ZsWiRQmHpDb6"
      }
    },
    {
      "cell_type": "code",
      "source": [
        "hina_cities={}\n",
        "hina_cities['pakistan']='lahore','multan','bahawalpur'\n",
        "print(hina_cities)"
      ],
      "metadata": {
        "colab": {
          "base_uri": "https://localhost:8080/"
        },
        "id": "0WWLx6X5pIg0",
        "outputId": "e4ecc30a-ca75-4ac3-a598-3a43ea9fb73e"
      },
      "execution_count": 4,
      "outputs": [
        {
          "output_type": "stream",
          "name": "stdout",
          "text": [
            "{'pakistan': ('lahore', 'multan', 'bahawalpur')}\n"
          ]
        }
      ]
    },
    {
      "cell_type": "code",
      "source": [
        "hina_cities={'lahore population':'20 lac','multan population':'10 lac','bahawalpur population':'8 lac'}\n",
        "print(hina_cities['lahore population'])\n",
        "print(hina_cities['multan population'])\n",
        "print(hina_cities['bahawalpur population'])"
      ],
      "metadata": {
        "colab": {
          "base_uri": "https://localhost:8080/"
        },
        "id": "bHHX7esfrsmc",
        "outputId": "61a70833-b587-479f-9de4-9b829c807ef6"
      },
      "execution_count": 5,
      "outputs": [
        {
          "output_type": "stream",
          "name": "stdout",
          "text": [
            "20 lac\n",
            "10 lac\n",
            "8 lac\n"
          ]
        }
      ]
    },
    {
      "cell_type": "markdown",
      "source": [
        "**Example 6.12**"
      ],
      "metadata": {
        "id": "d46Iexw-s-AK"
      }
    },
    {
      "cell_type": "code",
      "source": [
        "player={'name1':'asif','name2':'junaid','name3':'babar'}\n",
        "print(\"The good player is \" +player['name1'])\n",
        "print(\"The best player is \"+player['name2'])\n",
        "print(\"My favourite palyer is \"+player['name3'])"
      ],
      "metadata": {
        "colab": {
          "base_uri": "https://localhost:8080/"
        },
        "id": "u4sbhdSFtFiL",
        "outputId": "a141530b-2298-4e1e-a15d-a2920e5351bd"
      },
      "execution_count": null,
      "outputs": [
        {
          "output_type": "stream",
          "name": "stdout",
          "text": [
            "The good player is asif\n",
            "The best player is junaid\n",
            "My favourite palyer is babar\n"
          ]
        }
      ]
    }
  ]
}